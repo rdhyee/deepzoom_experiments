{
 "metadata": {
  "kernelspec": {
   "codemirror_mode": {
    "name": "ipython",
    "version": 2
   },
   "display_name": "IPython (Python 2)",
   "language": "python",
   "name": "python2"
  },
  "name": "",
  "signature": "sha256:9b888252104b61b5dc2b2965e4b5c1e7b56081909b108a1d4c1382a429336919"
 },
 "nbformat": 3,
 "nbformat_minor": 0,
 "worksheets": [
  {
   "cells": [
    {
     "cell_type": "markdown",
     "metadata": {},
     "source": [
      "[pgmagick repo](https://bitbucket.org/hhatto/pgmagick/)\n",
      "\n",
      "[OpenCV + Python tutorials](http://docs.opencv.org/trunk/doc/py_tutorials/py_tutorials.html)"
     ]
    },
    {
     "cell_type": "code",
     "collapsed": false,
     "input": [
      "from pgmagick import gminfo\n",
      "gminfo.library"
     ],
     "language": "python",
     "metadata": {},
     "outputs": [
      {
       "metadata": {},
       "output_type": "pyout",
       "prompt_number": 1,
       "text": [
        "'GraphicsMagick'"
       ]
      }
     ],
     "prompt_number": 1
    }
   ],
   "metadata": {}
  }
 ]
}